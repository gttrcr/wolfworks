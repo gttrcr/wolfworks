{
 "cells": [
  {
   "cell_type": "code",
   "execution_count": 26,
   "id": "a4d109d6",
   "metadata": {},
   "outputs": [],
   "source": [
    "ClearAll[\"Global`*\"]\n",
    "VarName[var_, index_]:=ToExpression[StringJoin[ToString[var], ToString[index]]]\n",
    "Par[index_]:=VarName[\\[Theta], index] (*parameters, parametric space*)\n",
    "Sup[index_]:=VarName[X, index] (*support*)\n",
    "PP[index_]:=VarName[pp, index] (*just an utility variable*)\n",
    "(*L[index_]:=VarName[L, index]*)\n",
    "(*RemoveAbs[f_]:=ComplexExpand[Abs[f]]*)\n",
    "DefaultSimplify[f_]:=FullSimplify[f, Assumptions->_\\[Element]PositiveReals]\n",
    "Unprotect[Abs, Arg];\n",
    "Abs[x_]:=x\n",
    "Arg[x_]:=0\n",
    "Protected[Abs, Arg];\n",
    "\n",
    "(*Gives the number of parameters, supports and levels*)\n",
    "Universe[f_]:=With[{parameters=Flatten[StringCases[ToString[#]&/@DeleteDuplicates[Cases[f, _Symbol, \\[Infinity]]], RegularExpression[\"\\[Theta][0-9]+\"]]], supports=Flatten[StringCases[ToString[#]&/@DeleteDuplicates[Cases[f, _Symbol, \\[Infinity]]], RegularExpression[\"X[0-9]+\"]]], levels=Flatten[StringCases[ToString[#]&/@DeleteDuplicates[Cases[f, _Symbol, \\[Infinity]]], RegularExpression[\"L[0-9]+\"]]]},\n",
    "{Length[parameters], Length[supports], Length[levels]}]\n",
    "\n",
    "derivativeProduct[f_, coordinates_]:=Table[D[f, Par[i]] D[f, Par[j]], {i, 1, coordinates}, {j, 1, coordinates}]\n",
    "gMetric[p_]:=With[{spacesize=Length[p], coordinates=Universe[p][[1]]}, Sum[derivativeProduct[p[[k]], coordinates], {k, 1, spacesize}]]\n",
    "(*FIT[p_]:=With[{spacesize=Length[p], coordinates=Universe[p][[1]]}, Sum[derivativeProduct[p[[k]], coordinates]/p[[k]], {k, 1, spacesize}]]*)\n",
    "\\[Mu][p_]:=1/Total[1/4 p^2]\n",
    "FITgMetric[p_]:=-derivativeProduct[\\[Mu][p], Universe[p][[1]]]/\\[Mu][p]^2+\\[Mu][p]gMetric[p]\n",
    "LargestNonSingular[m_]:=DeleteCases[m//Eigenvalues//DefaultSimplify, 0]//DiagonalMatrix\n",
    "SmallestSingular[m_]:=m//Eigenvalues//DefaultSimplify//DiagonalMatrix\n",
    "JacobianMatrix[p_]:=With[{spacesize=Length[p],coordinates=Universe[p][[1]]}, Table[D[p[[i]], Par[j]], {i, 1, spacesize}, {j, 1, coordinates}]]\n",
    "ModJacobianMatrix[p_]:=JacobianMatrix[2 p/Sqrt[Total[p^2]]]\n",
    "\n",
    "Informationlessg[p_]:=derivativeProduct[\\[Mu][p], Universe[p][[1]]]/\\[Mu][p]^3"
   ]
  },
  {
   "cell_type": "code",
   "execution_count": 122,
   "id": "f6ee5ca4",
   "metadata": {},
   "outputs": [
    {
     "data": {
      "text/html": [
       "<style>\n",
       "\t\t\t\t\t\t\t\t\t\t\t\t\t.grid-container {\n",
       "\t\t\t\t\t\t\t\t\t\t\t\t\t\tdisplay: inline-grid;\n",
       "\t\t\t\t\t\t\t\t\t\t\t\t\t\tgrid-template-columns: auto;\n",
       "\t\t\t\t\t\t\t\t\t\t\t\t\t}\n",
       "\t\t\t\t\t\t\t\t\t\t\t\t</style>\n",
       "\n",
       "\t\t\t\t\t\t\t\t\t\t\t\t<div><div class=\"grid-container\"><div class=\"grid-item\"><img alt=\"Output\" src=\"data:image/png;base64,iVBORw0KGgoAAAANSUhEUgAAACkAAAAWCAIAAADSLiLZAAAAz3pUWHRSYXcgcHJvZmlsZSB0eXBlIGV4aWYAAHjabU9bDsMgDPvnFDtCHuDAcWhHpd1gx19S2KZOs0TiOE6ANJ6PI90CwpRysYoGkCO33KQ7qTQxM1M74wlpq8dXPTGW3l0q3wbG0rerbssv9WcRySQaNzjXvAbWIpWpc5/1tvzSa/276A3Q5+l/66wmKGDLHrOQGZrzmpx6QhEqhgM74EbGXSjvngfMfAwWDu0xGJBhV/dIUBfu8QWNo9o9lzOyj7LCedHmkVVlO13Rje+8ABGRWoZO3Gn/AAAACXBIWXMAAA7EAAAOxAGVKw4bAAAAPHRFWHRTb2Z0d2FyZQBDcmVhdGVkIHdpdGggdGhlIFdvbGZyYW0gTGFuZ3VhZ2UgOiB3d3cud29sZnJhbS5jb21coqaFAAAAIXRFWHRDcmVhdGlvbiBUaW1lADIwMjM6MDU6MDEgMTY6NTk6MTMkutP/AAAB+UlEQVRIie2WP+g5YRzHn/Pv5G8kkoUoZDgGynAr3SK5bmIzmGyyMpglGRTDLc50i/JnoEyKATEog2JRMhluOd3zHa6k7++nr2+/3/dr8dqe9/N8evV5nuvTIRBC8CIkrxK/3a9xDwYD5AGlUulH3cj5fF4sFuKiXC5vt9t6vS4uXS6X3W7/QTm8I51OYxgGf4un3rtYLCYSCQhhtVr1er0KhcJoNHIcBwCo1Woymez+cC6X83g898l0Oo1EImq12mg0plKp4/Eo5s9+a5fLJZlMsixbqVRWq1W73VapVM8UDodDHMdNJlO322UYZr/fEwQhCAIAQPZlsch4PCYIYjQaiV1+6uwREMJMJkMQBMMwYhIOhx0OB8uyFEU92zeKos1m89P1fslyudztdtls9pbo9fpQKDSfz8HzfRsMBovF8i0xAEB8WpIkEQS5hRzHWa3Wb7gfIZfLIYSCIEgkf7lCs9kMAGg2m8Fg8D7XarX/wW21WgVBOBwO4iTgeX42m912A4GA0+ns9/sURf1Z+68zFcdxjUaTz+d3u916vY7H4zzP33alUilN061WiyTJTqczmUxomo5Go6fTCYDnZkuhULDZbI9GRK/X8/l8SqUSw7Ber8eyrNvtvj+w2WxisZhOp0NR1O/3NxqN6/UKIUTg+9/h7f4dPgD77ms01MrYKAAAAABJRU5ErkJggg==\"></div><div class=\"grid-item\"><img alt=\"Output\" src=\"data:image/png;base64,iVBORw0KGgoAAAANSUhEUgAAACkAAAAWCAIAAADSLiLZAAAAz3pUWHRSYXcgcHJvZmlsZSB0eXBlIGV4aWYAAHjabU9bDsMgDPvnFDtCHuDAcWhHpd1gx19S2KZOs0TiOE6ANJ6PI90CwpRysYoGkCO33KQ7qTQxM1M74wlpq8dXPTGW3l0q3wbG0rerbssv9WcRySQaNzjXvAbWIpWpc5/1tvzSa/276A3Q5+l/66wmKGDLHrOQGZrzmpx6QhEqhgM74EbGXSjvngfMfAwWDu0xGJBhV/dIUBfu8QWNo9o9lzOyj7LCedHmkVVlO13Rje+8ABGRWoZO3Gn/AAAACXBIWXMAAA7EAAAOxAGVKw4bAAAAPHRFWHRTb2Z0d2FyZQBDcmVhdGVkIHdpdGggdGhlIFdvbGZyYW0gTGFuZ3VhZ2UgOiB3d3cud29sZnJhbS5jb21coqaFAAAAIXRFWHRDcmVhdGlvbiBUaW1lADIwMjM6MDU6MDEgMTY6NTk6MTMkutP/AAAB+UlEQVRIie2WP+g5YRzHn/Pv5G8kkoUoZDgGynAr3SK5bmIzmGyyMpglGRTDLc50i/JnoEyKATEog2JRMhluOd3zHa6k7++nr2+/3/dr8dqe9/N8evV5nuvTIRBC8CIkrxK/3a9xDwYD5AGlUulH3cj5fF4sFuKiXC5vt9t6vS4uXS6X3W7/QTm8I51OYxgGf4un3rtYLCYSCQhhtVr1er0KhcJoNHIcBwCo1Woymez+cC6X83g898l0Oo1EImq12mg0plKp4/Eo5s9+a5fLJZlMsixbqVRWq1W73VapVM8UDodDHMdNJlO322UYZr/fEwQhCAIAQPZlsch4PCYIYjQaiV1+6uwREMJMJkMQBMMwYhIOhx0OB8uyFEU92zeKos1m89P1fslyudztdtls9pbo9fpQKDSfz8HzfRsMBovF8i0xAEB8WpIkEQS5hRzHWa3Wb7gfIZfLIYSCIEgkf7lCs9kMAGg2m8Fg8D7XarX/wW21WgVBOBwO4iTgeX42m912A4GA0+ns9/sURf1Z+68zFcdxjUaTz+d3u916vY7H4zzP33alUilN061WiyTJTqczmUxomo5Go6fTCYDnZkuhULDZbI9GRK/X8/l8SqUSw7Ber8eyrNvtvj+w2WxisZhOp0NR1O/3NxqN6/UKIUTg+9/h7f4dPgD77ms01MrYKAAAAABJRU5ErkJggg==\"></div></div></div>"
      ],
      "text/plain": [
       "True\n",
       "True"
      ]
     },
     "execution_count": 126,
     "metadata": {
      "text/html": [],
      "text/plain": []
     },
     "output_type": "execute_result"
    }
   ],
   "source": [
    "p=CoordinateTransform[\"Spherical\"->\"Cylindrical\",{Par[1], Par[2], Par[3]}];\n",
    "transMetric=gMetric[p]//DefaultSimplify;\n",
    "j=JacobianMatrix[p]//DefaultSimplify;\n",
    "\n",
    "(*direct*)\n",
    "(Transpose[j].IdentityMatrix[3].j//DefaultSimplify)===transMetric\n",
    "\n",
    "(*inverse*)\n",
    "(Transpose[Inverse[j]].transMetric.Inverse[j]//DefaultSimplify)===IdentityMatrix[3]"
   ]
  },
  {
   "cell_type": "code",
   "execution_count": null,
   "id": "b69f02ee",
   "metadata": {},
   "outputs": [],
   "source": [
    "p=CoordinateTransform[\"Spherical\"->\"Cylindrical\",{Par[1], Par[2], Par[3]}];\n",
    "j=JacobianMatrix[p];\n",
    "(j//Transpose).j//DefaultSimplify//MatrixForm; (*metric tensor*)\n",
    "modj=ModJacobianMatrix[p];\n",
    "FITgMetric[p]//SmallestSingular//MatrixForm (*info metric*)\n",
    "\n",
    "flat=CoordinateTransform[\"Spherical\"->\"Spherical\",{Par[1], Par[2], Par[3]}];\n",
    "flatmodj=JacobianMatrix[p]//SmallestSingular\n",
    "flatfit=FITgMetric[flat]//SmallestSingular;\n",
    "(flatmodj//Transpose).flatfit.flatmodj//MatrixForm"
   ]
  },
  {
   "cell_type": "code",
   "execution_count": 139,
   "id": "d1361b14",
   "metadata": {},
   "outputs": [
    {
     "data": {
      "text/html": [
       "<div><img alt=\"Output\" src=\"data:image/png;base64,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\"></div>"
      ],
      "text/plain": [
       "     2     2     2     2     2                  2\n",
       "  (θ1  + θ2 ) (θ1  + θ2  + θ3 ) + ArcTan[θ1, θ2]\n",
       "{{-----------------------------------------------}}\n",
       "     2     2     2     2     2                 2\n",
       "  (θ1  + θ2 ) (θ1  + θ2  + θ3  + ArcTan[θ1, θ2] )"
      ]
     },
     "execution_count": 140,
     "metadata": {
      "text/html": [],
      "text/plain": []
     },
     "output_type": "execute_result"
    }
   ],
   "source": [
    "p=CoordinateTransform[\"Cartesian\"->\"Cylindrical\",{Par[1], Par[2], Par[3]}];\n",
    "Informationlessg[p]//DefaultSimplify//LargestNonSingular"
   ]
  },
  {
   "cell_type": "code",
   "execution_count": null,
   "id": "f64ffcdf",
   "metadata": {},
   "outputs": [],
   "source": []
  }
 ],
 "metadata": {
  "kernelspec": {
   "display_name": "Wolfram Language 13.2",
   "language": "Wolfram Language",
   "name": "wolframlanguage13.2"
  },
  "language_info": {
   "codemirror_mode": "mathematica",
   "file_extension": ".m",
   "mimetype": "application/vnd.wolfram.m",
   "name": "Wolfram Language",
   "pygments_lexer": "mathematica",
   "version": "12.0"
  }
 },
 "nbformat": 4,
 "nbformat_minor": 5
}
