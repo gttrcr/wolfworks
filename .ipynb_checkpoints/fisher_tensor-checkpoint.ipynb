{
 "cells": [
  {
   "cell_type": "code",
   "execution_count": 15,
   "id": "a4d109d6",
   "metadata": {},
   "outputs": [],
   "source": [
    "ClearAll[\"Global`*\"]\n",
    "VarName[var_, index_]:=ToExpression[StringJoin[ToString[var], ToString[index]]]\n",
    "Par[index_]:=VarName[\\[Theta], index] (*parameters, parametric space*)\n",
    "Sup[index_]:=VarName[X, index] (*support*)\n",
    "PP[index_]:=VarName[pp, index] (*just an utility variable*)\n",
    "(*L[index_]:=VarName[L, index]*)\n",
    "(*RemoveAbs[f_]:=ComplexExpand[Abs[f]]*)\n",
    "DefaultSimplify[f_]:=FullSimplify[f, Assumptions->_\\[Element]PositiveReals]\n",
    "Unprotect[Abs, Arg];\n",
    "Abs[x_]:=x\n",
    "Arg[x_]:=0\n",
    "Protected[Abs, Arg];\n",
    "\n",
    "(*Gives the number of parameters, supports and levels*)\n",
    "Universe[f_]:=With[{parameters=Flatten[StringCases[ToString[#]&/@DeleteDuplicates[Cases[f, _Symbol, \\[Infinity]]], RegularExpression[\"\\[Theta][0-9]+\"]]], supports=Flatten[StringCases[ToString[#]&/@DeleteDuplicates[Cases[f, _Symbol, \\[Infinity]]], RegularExpression[\"X[0-9]+\"]]], levels=Flatten[StringCases[ToString[#]&/@DeleteDuplicates[Cases[f, _Symbol, \\[Infinity]]], RegularExpression[\"L[0-9]+\"]]]},\n",
    "{Length[parameters], Length[supports], Length[levels]}]\n",
    "\n",
    "derivativeProduct[f_, coordinates_]:=Table[D[f, Par[i]] D[f, Par[j]], {i, 1, coordinates}, {j, 1, coordinates}]\n",
    "gMetric[p_]:=With[{spacesize=Length[p], coordinates=Universe[p][[1]]}, Sum[derivativeProduct[p[[k]], coordinates], {k, 1, spacesize}]]\n",
    "FIT[p_]:=With[{spacesize=Length[p], coordinates=Universe[p][[1]]}, Sum[derivativeProduct[p[[k]], coordinates]/p[[k]], {k, 1, spacesize}]]\n",
    "\\[Mu][p_]:=1/Total[1/4 p^2]\n",
    "FITgMetric[p_]:=-derivativeProduct[\\[Mu][p], Universe[p][[1]]]/\\[Mu][p]^2+\\[Mu][p]gMetric[p]\n",
    "LargestNonSingular[m_]:=DeleteCases[m//Eigenvalues//DefaultSimplify, 0]//DiagonalMatrix\n",
    "JacobianMatrix[p_]:=With[{spacesize=Length[p],coordinates=Universe[p][[1]]}, Table[D[p[[i]], Par[j]], {i, 1, spacesize}, {j, 1, coordinates}]]\n",
    "ModJacobianMatrix[p_]:=JacobianMatrix[2 p/Sqrt[Total[p^2]]]"
   ]
  },
  {
   "cell_type": "code",
   "execution_count": 122,
   "id": "f6ee5ca4",
   "metadata": {},
   "outputs": [
    {
     "data": {
      "text/html": [
       "<style>\n",
       "\t\t\t\t\t\t\t\t\t\t\t\t\t.grid-container {\n",
       "\t\t\t\t\t\t\t\t\t\t\t\t\t\tdisplay: inline-grid;\n",
       "\t\t\t\t\t\t\t\t\t\t\t\t\t\tgrid-template-columns: auto;\n",
       "\t\t\t\t\t\t\t\t\t\t\t\t\t}\n",
       "\t\t\t\t\t\t\t\t\t\t\t\t</style>\n",
       "\n",
       "\t\t\t\t\t\t\t\t\t\t\t\t<div><div class=\"grid-container\"><div class=\"grid-item\"><img alt=\"Output\" src=\"data:image/png;base64,iVBORw0KGgoAAAANSUhEUgAAACkAAAAWCAIAAADSLiLZAAAAz3pUWHRSYXcgcHJvZmlsZSB0eXBlIGV4aWYAAHjabU9bDsMgDPvnFDtCHuDAcWhHpd1gx19S2KZOs0TiOE6ANJ6PI90CwpRysYoGkCO33KQ7qTQxM1M74wlpq8dXPTGW3l0q3wbG0rerbssv9WcRySQaNzjXvAbWIpWpc5/1tvzSa/276A3Q5+l/66wmKGDLHrOQGZrzmpx6QhEqhgM74EbGXSjvngfMfAwWDu0xGJBhV/dIUBfu8QWNo9o9lzOyj7LCedHmkVVlO13Rje+8ABGRWoZO3Gn/AAAACXBIWXMAAA7EAAAOxAGVKw4bAAAAPHRFWHRTb2Z0d2FyZQBDcmVhdGVkIHdpdGggdGhlIFdvbGZyYW0gTGFuZ3VhZ2UgOiB3d3cud29sZnJhbS5jb21coqaFAAAAIXRFWHRDcmVhdGlvbiBUaW1lADIwMjM6MDU6MDEgMTY6NTk6MTMkutP/AAAB+UlEQVRIie2WP+g5YRzHn/Pv5G8kkoUoZDgGynAr3SK5bmIzmGyyMpglGRTDLc50i/JnoEyKATEog2JRMhluOd3zHa6k7++nr2+/3/dr8dqe9/N8evV5nuvTIRBC8CIkrxK/3a9xDwYD5AGlUulH3cj5fF4sFuKiXC5vt9t6vS4uXS6X3W7/QTm8I51OYxgGf4un3rtYLCYSCQhhtVr1er0KhcJoNHIcBwCo1Woymez+cC6X83g898l0Oo1EImq12mg0plKp4/Eo5s9+a5fLJZlMsixbqVRWq1W73VapVM8UDodDHMdNJlO322UYZr/fEwQhCAIAQPZlsch4PCYIYjQaiV1+6uwREMJMJkMQBMMwYhIOhx0OB8uyFEU92zeKos1m89P1fslyudztdtls9pbo9fpQKDSfz8HzfRsMBovF8i0xAEB8WpIkEQS5hRzHWa3Wb7gfIZfLIYSCIEgkf7lCs9kMAGg2m8Fg8D7XarX/wW21WgVBOBwO4iTgeX42m912A4GA0+ns9/sURf1Z+68zFcdxjUaTz+d3u916vY7H4zzP33alUilN061WiyTJTqczmUxomo5Go6fTCYDnZkuhULDZbI9GRK/X8/l8SqUSw7Ber8eyrNvtvj+w2WxisZhOp0NR1O/3NxqN6/UKIUTg+9/h7f4dPgD77ms01MrYKAAAAABJRU5ErkJggg==\"></div><div class=\"grid-item\"><img alt=\"Output\" src=\"data:image/png;base64,iVBORw0KGgoAAAANSUhEUgAAACkAAAAWCAIAAADSLiLZAAAAz3pUWHRSYXcgcHJvZmlsZSB0eXBlIGV4aWYAAHjabU9bDsMgDPvnFDtCHuDAcWhHpd1gx19S2KZOs0TiOE6ANJ6PI90CwpRysYoGkCO33KQ7qTQxM1M74wlpq8dXPTGW3l0q3wbG0rerbssv9WcRySQaNzjXvAbWIpWpc5/1tvzSa/276A3Q5+l/66wmKGDLHrOQGZrzmpx6QhEqhgM74EbGXSjvngfMfAwWDu0xGJBhV/dIUBfu8QWNo9o9lzOyj7LCedHmkVVlO13Rje+8ABGRWoZO3Gn/AAAACXBIWXMAAA7EAAAOxAGVKw4bAAAAPHRFWHRTb2Z0d2FyZQBDcmVhdGVkIHdpdGggdGhlIFdvbGZyYW0gTGFuZ3VhZ2UgOiB3d3cud29sZnJhbS5jb21coqaFAAAAIXRFWHRDcmVhdGlvbiBUaW1lADIwMjM6MDU6MDEgMTY6NTk6MTMkutP/AAAB+UlEQVRIie2WP+g5YRzHn/Pv5G8kkoUoZDgGynAr3SK5bmIzmGyyMpglGRTDLc50i/JnoEyKATEog2JRMhluOd3zHa6k7++nr2+/3/dr8dqe9/N8evV5nuvTIRBC8CIkrxK/3a9xDwYD5AGlUulH3cj5fF4sFuKiXC5vt9t6vS4uXS6X3W7/QTm8I51OYxgGf4un3rtYLCYSCQhhtVr1er0KhcJoNHIcBwCo1Woymez+cC6X83g898l0Oo1EImq12mg0plKp4/Eo5s9+a5fLJZlMsixbqVRWq1W73VapVM8UDodDHMdNJlO322UYZr/fEwQhCAIAQPZlsch4PCYIYjQaiV1+6uwREMJMJkMQBMMwYhIOhx0OB8uyFEU92zeKos1m89P1fslyudztdtls9pbo9fpQKDSfz8HzfRsMBovF8i0xAEB8WpIkEQS5hRzHWa3Wb7gfIZfLIYSCIEgkf7lCs9kMAGg2m8Fg8D7XarX/wW21WgVBOBwO4iTgeX42m912A4GA0+ns9/sURf1Z+68zFcdxjUaTz+d3u916vY7H4zzP33alUilN061WiyTJTqczmUxomo5Go6fTCYDnZkuhULDZbI9GRK/X8/l8SqUSw7Ber8eyrNvtvj+w2WxisZhOp0NR1O/3NxqN6/UKIUTg+9/h7f4dPgD77ms01MrYKAAAAABJRU5ErkJggg==\"></div></div></div>"
      ],
      "text/plain": [
       "True\n",
       "True"
      ]
     },
     "execution_count": 126,
     "metadata": {
      "text/html": [],
      "text/plain": []
     },
     "output_type": "execute_result"
    }
   ],
   "source": [
    "p=CoordinateTransform[\"Spherical\"->\"Cylindrical\",{Par[1], Par[2], Par[3]}];\n",
    "transMetric=gMetric[p]//DefaultSimplify;\n",
    "j=JacobianMatrix[p]//DefaultSimplify;\n",
    "\n",
    "(*direct*)\n",
    "(Transpose[j].IdentityMatrix[3].j//DefaultSimplify)===transMetric\n",
    "\n",
    "(*inverse*)\n",
    "(Transpose[Inverse[j]].transMetric.Inverse[j]//DefaultSimplify)===IdentityMatrix[3]"
   ]
  },
  {
   "cell_type": "code",
   "execution_count": null,
   "id": "b69f02ee",
   "metadata": {},
   "outputs": [],
   "source": []
  }
 ],
 "metadata": {
  "kernelspec": {
   "display_name": "Wolfram Language 13.2",
   "language": "Wolfram Language",
   "name": "wolframlanguage13.2"
  },
  "language_info": {
   "codemirror_mode": "mathematica",
   "file_extension": ".m",
   "mimetype": "application/vnd.wolfram.m",
   "name": "Wolfram Language",
   "pygments_lexer": "mathematica",
   "version": "12.0"
  }
 },
 "nbformat": 4,
 "nbformat_minor": 5
}
